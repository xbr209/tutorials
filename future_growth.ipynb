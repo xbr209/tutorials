{
 "cells": [
  {
   "cell_type": "markdown",
   "metadata": {},
   "source": [
    "## Predicting future air traffic from past growth rates"
   ]
  },
  {
   "cell_type": "markdown",
   "metadata": {},
   "source": [
    "Import the Annual Growth Rate dataset from the online repository of this `jupyter notebooks` client into a `pandas` dataframe."
   ]
  },
  {
   "cell_type": "code",
   "execution_count": null,
   "metadata": {},
   "outputs": [],
   "source": [
    "import pandas as pd\n",
    "import warnings\n",
    "warnings.filterwarnings('ignore')\n",
    "\n",
    "# read-in the dataset from github into a pandas dataframe\n",
    "growth_rates_df = pd.read_csv('Annual_Air_Traffic.csv', sep=',')\n",
    "\n",
    "# print out the pandas dataframe to screen\n",
    "growth_rates_df"
   ]
  },
  {
   "cell_type": "markdown",
   "metadata": {},
   "source": [
    "Calculate the lower quartile, median and upper quartile growth rate (for the total passengers) for each airport."
   ]
  },
  {
   "cell_type": "code",
   "execution_count": null,
   "metadata": {},
   "outputs": [],
   "source": [
    "# create a new dataframe to store the growth rates\n",
    "growth_stats_df = pd.DataFrame(columns=['Airport', 'Lower_Quartile', 'Median', 'Upper_Quartile'])\n",
    "\n",
    "# add each airport to the dataframe\n",
    "for i in range(0, len(growth_rates_df)):\n",
    "    # only add airport to the list if it hasn't already been added\n",
    "    if i == 0 or not growth_rates_df['Airport'][i] == growth_stats_df['Airport'][len(growth_stats_df) - 1]:\n",
    "        growth_stats_df.loc[len(growth_stats_df)] = [growth_rates_df['Airport'][i], 0, 0, 0]\n",
    "\n",
    "# calculate lower quartile, median and upper quartile for each airport\n",
    "for j in range(0, len(growth_stats_df)):\n",
    "    # select only rows containing data for the jth airport\n",
    "    airport_rates_df = growth_rates_df[growth_rates_df['Airport'] == growth_stats_df['Airport'][j]]\n",
    "    \n",
    "    # calculate the statistics for this airport\n",
    "    growth_stats_df['Lower_Quartile'][j] = airport_rates_df['Total_Growth_Rate'].quantile(0.25)\n",
    "    growth_stats_df['Median'][j] = airport_rates_df['Total_Growth_Rate'].quantile(0.5)\n",
    "    growth_stats_df['Upper_Quartile'][j] = airport_rates_df['Total_Growth_Rate'].quantile(0.75)\n",
    "\n",
    "growth_stats_df"
   ]
  },
  {
   "cell_type": "markdown",
   "metadata": {},
   "source": [
    "Predict future air traffic at each airport for an additional 30 years based on the range of growth rates."
   ]
  },
  {
   "cell_type": "code",
   "execution_count": null,
   "metadata": {},
   "outputs": [],
   "source": [
    "# set number of years to predict air traffic as a variable\n",
    "nyears = 30\n",
    "\n",
    "# create a copy of the dataframe\n",
    "future_traffic_df = growth_rates_df.copy()\n",
    "\n",
    "# add new columns for low, medium and high growth rate, and remove unwanted columns\n",
    "future_traffic_df['Passengers_low'] = future_traffic_df['Total_Passengers']\n",
    "future_traffic_df['Passengers_medium'] = future_traffic_df['Total_Passengers']\n",
    "future_traffic_df['Passengers_high'] = future_traffic_df['Total_Passengers']\n",
    "future_traffic_df = future_traffic_df.drop(columns=['Domestic_Passengers', 'International_Passengers', \\\n",
    "                'Total_Passengers', 'Domestic_Growth_Rate', 'International_Growth_Rate', 'Total_Growth_Rate'])\n",
    "\n",
    "# find the latest year in the database\n",
    "current_year = future_traffic_df['Year'].max()\n",
    "    \n",
    "# add projected traffic numbers for each airport for the next 30 years\n",
    "for i in range(0, len(growth_stats_df)):\n",
    "    # find the corresponding number of passengers\n",
    "    current_passengers = int(future_traffic_df['Passengers_medium'][(future_traffic_df['Airport'] == \\\n",
    "                    growth_stats_df['Airport'][i]) & (future_traffic_df['Year'] == current_year)].values)\n",
    "    \n",
    "    for j in range(0, nyears):\n",
    "        future_traffic_df.loc[len(future_traffic_df)] = [growth_stats_df['Airport'][i], current_year + j + 1, \\\n",
    "                    int(current_passengers*(1 + growth_stats_df['Lower_Quartile'][i]/100)**(j + 1)), \\\n",
    "                    int(current_passengers*(1 + growth_stats_df['Median'][i]/100)**(j + 1)), \\\n",
    "                    int(current_passengers*(1 + growth_stats_df['Upper_Quartile'][i]/100)**(j + 1))]\n",
    "        \n",
    "# sort the dataframe by the `Airport' name then `Year', so it is ordered again\n",
    "future_traffic_df = future_traffic_df.sort_values(by=['Airport', 'Year'])\n",
    "\n",
    "future_traffic_df"
   ]
  },
  {
   "cell_type": "markdown",
   "metadata": {},
   "source": [
    "Write `pandas` dataframe to a `Microsoft Excel` file named 'Future_Air_Traffic.csv'."
   ]
  },
  {
   "cell_type": "code",
   "execution_count": null,
   "metadata": {},
   "outputs": [],
   "source": [
    "future_traffic_df.to_csv(\"Future_Air_Traffic.csv\", index=False)"
   ]
  },
  {
   "cell_type": "code",
   "execution_count": null,
   "metadata": {},
   "outputs": [],
   "source": []
  }
 ],
 "metadata": {
  "kernelspec": {
   "display_name": "Python 2",
   "language": "python",
   "name": "python2"
  },
  "language_info": {
   "codemirror_mode": {
    "name": "ipython",
    "version": 2
   },
   "file_extension": ".py",
   "mimetype": "text/x-python",
   "name": "python",
   "nbconvert_exporter": "python",
   "pygments_lexer": "ipython2",
   "version": "2.7.15"
  }
 },
 "nbformat": 4,
 "nbformat_minor": 2
}
